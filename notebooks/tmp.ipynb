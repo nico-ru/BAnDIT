{
 "cells": [
  {
   "cell_type": "code",
   "execution_count": 49,
   "metadata": {},
   "outputs": [],
   "source": [
    "from src.datamodules.components.embedded_sequence_dataset import EmbeddedSequenceDataset\n",
    "from src.datamodules.components.helpers import requestToEncTensor\n",
    "from src.datamodules.components.sample_transformer import SampleTransformer\n",
    "from src.models.sequence_rnn import SequenceRNN\n",
    "from src.models.message_event_encoder import MessageEventEncoderLitModule\n",
    "\n",
    "embed_seq_ds = EmbeddedSequenceDataset(\n",
    "    annotations=\"/home/rudi/Projects/profile-based-anomaly-detection/data/smaller_ids/annotations.csv\",\n",
    "    files_dir=\"/home/rudi/Projects/profile-based-anomaly-detection/data/smaller_ids\",\n",
    "    transform=requestToEncTensor,\n",
    "    load_tensors=True\n",
    ")\n",
    "\n",
    "mee: MessageEventEncoderLitModule = MessageEventEncoderLitModule.load_from_checkpoint(\"/home/rudi/Projects/profile-based-anomaly-detection/logs/train/runs/2023-07-13_10-45-47/checkpoints/epoch_049.ckpt\")\n",
    "\n",
    "model: SequenceRNN = SequenceRNN.load_from_checkpoint(\"/home/rudi/Projects/profile-based-anomaly-detection/logs/train/runs/2023-07-13_11-34-16/checkpoints/epoch_002.ckpt\")"
   ]
  },
  {
   "cell_type": "code",
   "execution_count": 53,
   "metadata": {},
   "outputs": [],
   "source": [
    "res, _, dec_res, _ = model(embed_seq_ds[0].unsqueeze(dim=0))"
   ]
  },
  {
   "cell_type": "code",
   "execution_count": 57,
   "metadata": {},
   "outputs": [
    {
     "data": {
      "text/plain": [
       "torch.Size([7, 3968])"
      ]
     },
     "execution_count": 57,
     "metadata": {},
     "output_type": "execute_result"
    }
   ],
   "source": [
    "dec_res.shape"
   ]
  },
  {
   "cell_type": "code",
   "execution_count": 45,
   "metadata": {},
   "outputs": [],
   "source": [
    "transformer: SampleTransformer = embed_seq_ds.transformer"
   ]
  },
  {
   "cell_type": "code",
   "execution_count": 46,
   "metadata": {},
   "outputs": [
    {
     "data": {
      "text/plain": [
       "[tensor([[0.8418, 0.7842, 0.7923,  ..., 0.7600, 0.8537, 0.8179],\n",
       "         [0.9234, 0.8324, 0.9440,  ..., 0.8505, 0.8639, 0.8102],\n",
       "         [0.8589, 0.8262, 0.8906,  ..., 0.8244, 0.8407, 0.8332],\n",
       "         ...,\n",
       "         [0.8133, 0.8321, 0.7366,  ..., 0.8333, 0.7501, 0.8075],\n",
       "         [0.7819, 0.8126, 0.7654,  ..., 0.7921, 0.7218, 0.8085],\n",
       "         [0.9030, 0.9011, 0.8989,  ..., 0.9121, 0.9415, 0.9174]],\n",
       "        grad_fn=<ViewBackward0>),\n",
       " tensor([[ 1.2519,  0.7807, -0.3451,  ...,  0.4052,  1.1908,  0.5747],\n",
       "         [ 1.7136,  0.6419,  0.5420,  ...,  0.0114, -0.2790,  0.1688],\n",
       "         [ 1.3558,  0.6946, -0.2776,  ...,  0.8068, -0.7730,  0.6843],\n",
       "         ...,\n",
       "         [ 1.1023,  0.8807, -0.3254,  ...,  1.0806, -0.9643,  0.9569],\n",
       "         [ 1.1126,  1.0165, -0.3820,  ...,  1.0999, -0.9946,  1.0220],\n",
       "         [ 0.5414,  0.4165, -0.2271,  ...,  0.6206,  0.3533,  0.5228]],\n",
       "        grad_fn=<ViewBackward0>),\n",
       " tensor([[ 1.1220,  0.0265,  1.0386,  ..., -1.0047,  1.0849, -0.0592],\n",
       "         [ 1.3908, -0.3380,  1.5625,  ...,  0.2891, -0.3062,  0.0253],\n",
       "         [ 1.1504, -0.2432,  1.0281,  ..., -1.0992,  0.9856, -0.9582],\n",
       "         ...,\n",
       "         [ 1.3571,  0.9884, -0.2944,  ...,  1.3607, -1.2906,  1.1732],\n",
       "         [ 1.3271,  1.0358, -0.2834,  ...,  1.0599, -1.2588,  1.0853],\n",
       "         [-0.0243, -0.8539, -1.1536,  ..., -0.1380,  0.1832, -0.3283]],\n",
       "        grad_fn=<ViewBackward0>),\n",
       " tensor([[ 1.3086,  1.0840, -1.0296,  ...,  0.9675,  1.1384,  0.8971],\n",
       "         [ 2.1501,  1.2217, -0.3131,  ...,  0.5941, -0.9326,  0.5968],\n",
       "         [ 1.2353,  0.8443, -0.9858,  ...,  0.7762, -1.0549,  0.9867],\n",
       "         ...,\n",
       "         [ 1.5913,  1.2874, -0.5638,  ...,  1.6526, -1.6099,  1.5841],\n",
       "         [ 1.5999,  1.3830, -0.6607,  ...,  1.5340, -1.6500,  1.4930],\n",
       "         [-0.1887, -0.1676, -0.4891,  ..., -0.1770, -0.1536, -0.6023]],\n",
       "        grad_fn=<ViewBackward0>),\n",
       " tensor([[-2.2607, -2.0696, -2.2482,  ..., -2.1612, -2.1632, -1.9735],\n",
       "         [-2.2136, -2.0443, -2.2811,  ..., -2.1277, -2.1050, -2.2442],\n",
       "         [-2.3530, -2.1888, -2.4433,  ..., -2.2712, -2.4989, -2.1209],\n",
       "         ...,\n",
       "         [-1.9986, -1.9676, -2.1152,  ..., -2.0650, -2.1005, -2.0819],\n",
       "         [-2.0147, -2.0681, -2.0850,  ..., -2.0862, -2.2696, -2.0589],\n",
       "         [-2.7756, -2.6461, -2.5767,  ..., -2.8078, -2.6356, -2.5792]],\n",
       "        grad_fn=<ViewBackward0>),\n",
       " tensor([[1.9494, 1.7815, 2.1641,  ..., 1.5589, 2.0337, 1.7901],\n",
       "         [1.8495, 1.5733, 2.1286,  ..., 1.7451, 1.8713, 1.7165],\n",
       "         [1.8976, 1.7040, 2.1083,  ..., 1.6005, 2.0054, 1.7422],\n",
       "         ...,\n",
       "         [1.7562, 1.6780, 1.7867,  ..., 1.8932, 1.8053, 1.7766],\n",
       "         [1.7605, 1.7835, 1.7163,  ..., 1.7995, 1.6649, 1.6876],\n",
       "         [1.6306, 1.4679, 1.6815,  ..., 1.5596, 1.4846, 1.5153]],\n",
       "        grad_fn=<ViewBackward0>),\n",
       " tensor([[1.8164, 1.5376, 1.9194,  ..., 1.3908, 1.7827, 1.6032],\n",
       "         [1.7926, 1.5075, 1.8875,  ..., 1.1863, 1.7376, 1.4103],\n",
       "         [1.7803, 1.5026, 1.9075,  ..., 1.6238, 1.5733, 1.4465],\n",
       "         ...,\n",
       "         [1.4953, 1.5071, 1.5954,  ..., 1.6206, 1.5539, 1.5147],\n",
       "         [1.4766, 1.4291, 1.5311,  ..., 1.6494, 1.5397, 1.4133],\n",
       "         [1.7916, 1.6378, 1.7277,  ..., 1.7835, 1.6892, 1.6482]],\n",
       "        grad_fn=<ViewBackward0>)]"
      ]
     },
     "execution_count": 46,
     "metadata": {},
     "output_type": "execute_result"
    }
   ],
   "source": [
    "res"
   ]
  },
  {
   "cell_type": "code",
   "execution_count": 6,
   "metadata": {},
   "outputs": [
    {
     "data": {
      "text/plain": [
       "3968"
      ]
     },
     "execution_count": 6,
     "metadata": {},
     "output_type": "execute_result"
    }
   ],
   "source": [
    "sample = embed_seq_ds[0]\n",
    "sample.size(-1)"
   ]
  },
  {
   "cell_type": "code",
   "execution_count": 4,
   "metadata": {},
   "outputs": [
    {
     "data": {
      "text/html": [
       "<div>\n",
       "<style scoped>\n",
       "    .dataframe tbody tr th:only-of-type {\n",
       "        vertical-align: middle;\n",
       "    }\n",
       "\n",
       "    .dataframe tbody tr th {\n",
       "        vertical-align: top;\n",
       "    }\n",
       "\n",
       "    .dataframe thead th {\n",
       "        text-align: right;\n",
       "    }\n",
       "</style>\n",
       "<table border=\"1\" class=\"dataframe\">\n",
       "  <thead>\n",
       "    <tr style=\"text-align: right;\">\n",
       "      <th></th>\n",
       "      <th>CORRELATION_ID</th>\n",
       "      <th>MESSAGE</th>\n",
       "      <th>TIMESTAMP</th>\n",
       "      <th>SERVICE</th>\n",
       "      <th>ENDPOINT</th>\n",
       "      <th>ACTIVITY</th>\n",
       "      <th>CODE</th>\n",
       "    </tr>\n",
       "  </thead>\n",
       "  <tbody>\n",
       "    <tr>\n",
       "      <th>1505</th>\n",
       "      <td>303</td>\n",
       "      <td>44e19dd4-aadb-43c9-a5f1-023fed0e0799.log.msg</td>\n",
       "      <td>2023-02-22 13:26:21.154595</td>\n",
       "      <td>order</td>\n",
       "      <td>inventory</td>\n",
       "      <td>Check Availability</td>\n",
       "      <td>0</td>\n",
       "    </tr>\n",
       "    <tr>\n",
       "      <th>1506</th>\n",
       "      <td>303</td>\n",
       "      <td>2f99f7e1-ea7f-4e8b-b466-db562571f6ac.log.msg</td>\n",
       "      <td>2023-02-22 13:26:36.179666</td>\n",
       "      <td>inventory</td>\n",
       "      <td>order/availability</td>\n",
       "      <td>Send Confirmation</td>\n",
       "      <td>0</td>\n",
       "    </tr>\n",
       "    <tr>\n",
       "      <th>1507</th>\n",
       "      <td>303</td>\n",
       "      <td>e38eac76-46a4-4ade-96d8-eb44626e1618.log.msg</td>\n",
       "      <td>2023-02-22 13:26:38.203427</td>\n",
       "      <td>order</td>\n",
       "      <td>billing</td>\n",
       "      <td>Request Invoice</td>\n",
       "      <td>0</td>\n",
       "    </tr>\n",
       "    <tr>\n",
       "      <th>1508</th>\n",
       "      <td>303</td>\n",
       "      <td>3e5e2a0d-7ba1-4c05-a947-11e5d0da3e8f.log.msg</td>\n",
       "      <td>2023-02-22 13:26:42.224384</td>\n",
       "      <td>order</td>\n",
       "      <td>message</td>\n",
       "      <td>Confirm Order</td>\n",
       "      <td>0</td>\n",
       "    </tr>\n",
       "    <tr>\n",
       "      <th>1509</th>\n",
       "      <td>303</td>\n",
       "      <td>743bffa3-502b-4113-a0e7-c5a9823fabec.log.msg</td>\n",
       "      <td>2023-02-22 13:26:46.229007</td>\n",
       "      <td>billing</td>\n",
       "      <td>message</td>\n",
       "      <td>Send Invoice</td>\n",
       "      <td>0</td>\n",
       "    </tr>\n",
       "  </tbody>\n",
       "</table>\n",
       "</div>"
      ],
      "text/plain": [
       "      CORRELATION_ID                                       MESSAGE  \\\n",
       "1505             303  44e19dd4-aadb-43c9-a5f1-023fed0e0799.log.msg   \n",
       "1506             303  2f99f7e1-ea7f-4e8b-b466-db562571f6ac.log.msg   \n",
       "1507             303  e38eac76-46a4-4ade-96d8-eb44626e1618.log.msg   \n",
       "1508             303  3e5e2a0d-7ba1-4c05-a947-11e5d0da3e8f.log.msg   \n",
       "1509             303  743bffa3-502b-4113-a0e7-c5a9823fabec.log.msg   \n",
       "\n",
       "                      TIMESTAMP    SERVICE            ENDPOINT  \\\n",
       "1505 2023-02-22 13:26:21.154595      order           inventory   \n",
       "1506 2023-02-22 13:26:36.179666  inventory  order/availability   \n",
       "1507 2023-02-22 13:26:38.203427      order             billing   \n",
       "1508 2023-02-22 13:26:42.224384      order             message   \n",
       "1509 2023-02-22 13:26:46.229007    billing             message   \n",
       "\n",
       "                ACTIVITY  CODE  \n",
       "1505  Check Availability     0  \n",
       "1506   Send Confirmation     0  \n",
       "1507     Request Invoice     0  \n",
       "1508       Confirm Order     0  \n",
       "1509        Send Invoice     0  "
      ]
     },
     "execution_count": 4,
     "metadata": {},
     "output_type": "execute_result"
    }
   ],
   "source": [
    "dataset.groups.get_group(303).sort_values('TIMESTAMP')"
   ]
  },
  {
   "cell_type": "code",
   "execution_count": 5,
   "metadata": {},
   "outputs": [
    {
     "data": {
      "text/plain": [
       "30"
      ]
     },
     "execution_count": 5,
     "metadata": {},
     "output_type": "execute_result"
    }
   ],
   "source": [
    "import pandas as pd\n",
    "\n",
    "df = pd.read_csv(\"/home/rudi/Projects/profile-based-anomaly-detection/data/dotlist_induced3/annotations.csv\")\n",
    "len(df[df['CODE'] >= 64])"
   ]
  },
  {
   "cell_type": "code",
   "execution_count": 6,
   "metadata": {},
   "outputs": [
    {
     "ename": "SyntaxError",
     "evalue": "invalid syntax (3689701570.py, line 7)",
     "output_type": "error",
     "traceback": [
      "\u001b[0;36m  Cell \u001b[0;32mIn [6], line 7\u001b[0;36m\u001b[0m\n\u001b[0;31m    code =\u001b[0m\n\u001b[0m          ^\u001b[0m\n\u001b[0;31mSyntaxError\u001b[0m\u001b[0;31m:\u001b[0m invalid syntax\n"
     ]
    }
   ],
   "source": [
    "import pandas as pd\n",
    "\n",
    "df_anomalies = pd.read_csv(\"/home/rudi/Projects/profile-based-anomaly-detection/data/dotlist_induced/anomalies.csv\")\n",
    "df_anomalies.sort_values(['CORRELATION_ID'], inplace=True)\n",
    "df_annotations = pd.read_csv(\"/home/rudi/Projects/profile-based-anomaly-detection/data/dotlist_induced/annotations.csv\")\n",
    "\n",
    "code =\n",
    "\n",
    "display(df_anomalies[df_anomalies['CODE'] == code])\n",
    "print(len(df_anomalies[df_anomalies['CODE'] == code]))\n",
    "display(df_annotations[df_annotations['CODE'] == code])\n",
    "print(len(df_annotations[df_annotations['CODE'] == code]))"
   ]
  }
 ],
 "metadata": {
  "kernelspec": {
   "display_name": "Python 3.10.9 ('soadetect')",
   "language": "python",
   "name": "python3"
  },
  "language_info": {
   "codemirror_mode": {
    "name": "ipython",
    "version": 3
   },
   "file_extension": ".py",
   "mimetype": "text/x-python",
   "name": "python",
   "nbconvert_exporter": "python",
   "pygments_lexer": "ipython3",
   "version": "3.10.9"
  },
  "orig_nbformat": 4,
  "vscode": {
   "interpreter": {
    "hash": "5e1533320b0b8d0645fbc7211cfcf8506c40596d3dd2a8be06359ce6c9210a0e"
   }
  }
 },
 "nbformat": 4,
 "nbformat_minor": 2
}
