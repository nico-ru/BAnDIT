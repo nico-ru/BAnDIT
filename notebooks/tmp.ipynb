{
 "cells": [
  {
   "cell_type": "code",
   "execution_count": 1,
   "metadata": {},
   "outputs": [],
   "source": [
    "from src.datamodules.components.sequence_dataset import SequenceDataset\n",
    "from src.datamodules.components.message_event_dataset import MessageEventDataset\n",
    "from src.datamodules.components.embedded_sequence_dataset import EmbeddedSequenceDataset\n",
    "from src.datamodules.components.helpers import requestToEncTensor\n",
    "\n",
    "dataset = SequenceDataset(\n",
    "    annotations=\"/home/rudi/Projects/profile-based-anomaly-detection/data/dotlist_induced/annotations.csv\",\n",
    "    events=\"/home/rudi/Projects/profile-based-anomaly-detection/data/dotlist3/events.json\",\n",
    ")\n",
    "\n",
    "orig_dataset = MessageEventDataset(\n",
    "    annotations=\"/home/rudi/Projects/profile-based-anomaly-detection/data/dotlist3/annotations.csv\",\n",
    "    files_dir=\"/home/rudi/Projects/profile-based-anomaly-detection/data/dotlist3\",\n",
    "    transform=requestToEncTensor\n",
    ")\n",
    "\n",
    "embed_seq_ds = EmbeddedSequenceDataset(\n",
    "    annotations=\"/home/rudi/Projects/profile-based-anomaly-detection/data/dotlist_induced3/annotations.csv\",\n",
    "    files_dir=\"/home/rudi/Projects/profile-based-anomaly-detection/data/dotlist_induced3\",\n",
    "    transform=requestToEncTensor,\n",
    "    load_tensors=True\n",
    ")"
   ]
  },
  {
   "cell_type": "code",
   "execution_count": 10,
   "metadata": {},
   "outputs": [
    {
     "data": {
      "text/plain": [
       "tensor([[ 1.0000e+02,  1.0000e+02,  1.0000e+02,  ...,  1.0000e+02,\n",
       "          1.0000e+02,  1.0000e+02],\n",
       "        [ 8.0487e-01,  3.3299e-02,  5.8465e-01,  ...,  0.0000e+00,\n",
       "          0.0000e+00,  0.0000e+00],\n",
       "        [ 8.0487e-01,  3.3299e-02,  5.8465e-01,  ...,  0.0000e+00,\n",
       "          0.0000e+00,  0.0000e+00],\n",
       "        ...,\n",
       "        [ 8.0487e-01,  3.3299e-02,  5.8465e-01,  ...,  0.0000e+00,\n",
       "          0.0000e+00,  0.0000e+00],\n",
       "        [ 8.0487e-01,  3.3299e-02,  5.8465e-01,  ...,  0.0000e+00,\n",
       "          0.0000e+00,  0.0000e+00],\n",
       "        [-1.0000e+02, -1.0000e+02, -1.0000e+02,  ..., -1.0000e+02,\n",
       "         -1.0000e+02, -1.0000e+02]])"
      ]
     },
     "execution_count": 10,
     "metadata": {},
     "output_type": "execute_result"
    }
   ],
   "source": [
    "sample = embed_seq_ds[0]\n",
    "sample"
   ]
  },
  {
   "cell_type": "code",
   "execution_count": 3,
   "metadata": {},
   "outputs": [
    {
     "data": {
      "text/html": [
       "<div>\n",
       "<style scoped>\n",
       "    .dataframe tbody tr th:only-of-type {\n",
       "        vertical-align: middle;\n",
       "    }\n",
       "\n",
       "    .dataframe tbody tr th {\n",
       "        vertical-align: top;\n",
       "    }\n",
       "\n",
       "    .dataframe thead th {\n",
       "        text-align: right;\n",
       "    }\n",
       "</style>\n",
       "<table border=\"1\" class=\"dataframe\">\n",
       "  <thead>\n",
       "    <tr style=\"text-align: right;\">\n",
       "      <th></th>\n",
       "      <th>CORRELATION_ID</th>\n",
       "      <th>MESSAGE</th>\n",
       "      <th>TIMESTAMP</th>\n",
       "      <th>SERVICE</th>\n",
       "      <th>ENDPOINT</th>\n",
       "      <th>ACTIVITY</th>\n",
       "      <th>CODE</th>\n",
       "    </tr>\n",
       "  </thead>\n",
       "  <tbody>\n",
       "    <tr>\n",
       "      <th>1505</th>\n",
       "      <td>303</td>\n",
       "      <td>44e19dd4-aadb-43c9-a5f1-023fed0e0799.log.msg</td>\n",
       "      <td>2023-02-22 13:26:21.154595</td>\n",
       "      <td>order</td>\n",
       "      <td>inventory</td>\n",
       "      <td>Check Availability</td>\n",
       "      <td>0</td>\n",
       "    </tr>\n",
       "    <tr>\n",
       "      <th>1506</th>\n",
       "      <td>303</td>\n",
       "      <td>2f99f7e1-ea7f-4e8b-b466-db562571f6ac.log.msg</td>\n",
       "      <td>2023-02-22 13:26:36.179666</td>\n",
       "      <td>inventory</td>\n",
       "      <td>order/availability</td>\n",
       "      <td>Send Confirmation</td>\n",
       "      <td>0</td>\n",
       "    </tr>\n",
       "    <tr>\n",
       "      <th>1507</th>\n",
       "      <td>303</td>\n",
       "      <td>e38eac76-46a4-4ade-96d8-eb44626e1618.log.msg</td>\n",
       "      <td>2023-02-22 13:26:38.203427</td>\n",
       "      <td>order</td>\n",
       "      <td>billing</td>\n",
       "      <td>Request Invoice</td>\n",
       "      <td>0</td>\n",
       "    </tr>\n",
       "    <tr>\n",
       "      <th>1508</th>\n",
       "      <td>303</td>\n",
       "      <td>3e5e2a0d-7ba1-4c05-a947-11e5d0da3e8f.log.msg</td>\n",
       "      <td>2023-02-22 13:26:42.224384</td>\n",
       "      <td>order</td>\n",
       "      <td>message</td>\n",
       "      <td>Confirm Order</td>\n",
       "      <td>0</td>\n",
       "    </tr>\n",
       "    <tr>\n",
       "      <th>1509</th>\n",
       "      <td>303</td>\n",
       "      <td>743bffa3-502b-4113-a0e7-c5a9823fabec.log.msg</td>\n",
       "      <td>2023-02-22 13:26:46.229007</td>\n",
       "      <td>billing</td>\n",
       "      <td>message</td>\n",
       "      <td>Send Invoice</td>\n",
       "      <td>0</td>\n",
       "    </tr>\n",
       "  </tbody>\n",
       "</table>\n",
       "</div>"
      ],
      "text/plain": [
       "      CORRELATION_ID                                       MESSAGE  \\\n",
       "1505             303  44e19dd4-aadb-43c9-a5f1-023fed0e0799.log.msg   \n",
       "1506             303  2f99f7e1-ea7f-4e8b-b466-db562571f6ac.log.msg   \n",
       "1507             303  e38eac76-46a4-4ade-96d8-eb44626e1618.log.msg   \n",
       "1508             303  3e5e2a0d-7ba1-4c05-a947-11e5d0da3e8f.log.msg   \n",
       "1509             303  743bffa3-502b-4113-a0e7-c5a9823fabec.log.msg   \n",
       "\n",
       "                      TIMESTAMP    SERVICE            ENDPOINT  \\\n",
       "1505 2023-02-22 13:26:21.154595      order           inventory   \n",
       "1506 2023-02-22 13:26:36.179666  inventory  order/availability   \n",
       "1507 2023-02-22 13:26:38.203427      order             billing   \n",
       "1508 2023-02-22 13:26:42.224384      order             message   \n",
       "1509 2023-02-22 13:26:46.229007    billing             message   \n",
       "\n",
       "                ACTIVITY  CODE  \n",
       "1505  Check Availability     0  \n",
       "1506   Send Confirmation     0  \n",
       "1507     Request Invoice     0  \n",
       "1508       Confirm Order     0  \n",
       "1509        Send Invoice     0  "
      ]
     },
     "execution_count": 3,
     "metadata": {},
     "output_type": "execute_result"
    }
   ],
   "source": [
    "dataset.groups.get_group(303).sort_values('TIMESTAMP')"
   ]
  },
  {
   "cell_type": "code",
   "execution_count": 4,
   "metadata": {},
   "outputs": [
    {
     "data": {
      "text/plain": [
       "30"
      ]
     },
     "execution_count": 4,
     "metadata": {},
     "output_type": "execute_result"
    }
   ],
   "source": [
    "import pandas as pd\n",
    "\n",
    "df = pd.read_csv(\"/home/rudi/Projects/profile-based-anomaly-detection/data/dotlist_induced3/annotations.csv\")\n",
    "len(df[df['CODE'] >= 64])"
   ]
  },
  {
   "cell_type": "code",
   "execution_count": 5,
   "metadata": {},
   "outputs": [
    {
     "ename": "SyntaxError",
     "evalue": "invalid syntax (3689701570.py, line 7)",
     "output_type": "error",
     "traceback": [
      "\u001b[0;36m  Cell \u001b[0;32mIn [5], line 7\u001b[0;36m\u001b[0m\n\u001b[0;31m    code =\u001b[0m\n\u001b[0m          ^\u001b[0m\n\u001b[0;31mSyntaxError\u001b[0m\u001b[0;31m:\u001b[0m invalid syntax\n"
     ]
    }
   ],
   "source": [
    "import pandas as pd\n",
    "\n",
    "df_anomalies = pd.read_csv(\"/home/rudi/Projects/profile-based-anomaly-detection/data/dotlist_induced/anomalies.csv\")\n",
    "df_anomalies.sort_values(['CORRELATION_ID'], inplace=True)\n",
    "df_annotations = pd.read_csv(\"/home/rudi/Projects/profile-based-anomaly-detection/data/dotlist_induced/annotations.csv\")\n",
    "\n",
    "code =\n",
    "\n",
    "display(df_anomalies[df_anomalies['CODE'] == code])\n",
    "print(len(df_anomalies[df_anomalies['CODE'] == code]))\n",
    "display(df_annotations[df_annotations['CODE'] == code])\n",
    "print(len(df_annotations[df_annotations['CODE'] == code]))"
   ]
  }
 ],
 "metadata": {
  "kernelspec": {
   "display_name": "Python 3.10.9 ('soadetect')",
   "language": "python",
   "name": "python3"
  },
  "language_info": {
   "codemirror_mode": {
    "name": "ipython",
    "version": 3
   },
   "file_extension": ".py",
   "mimetype": "text/x-python",
   "name": "python",
   "nbconvert_exporter": "python",
   "pygments_lexer": "ipython3",
   "version": "3.10.9"
  },
  "orig_nbformat": 4,
  "vscode": {
   "interpreter": {
    "hash": "5e1533320b0b8d0645fbc7211cfcf8506c40596d3dd2a8be06359ce6c9210a0e"
   }
  }
 },
 "nbformat": 4,
 "nbformat_minor": 2
}
