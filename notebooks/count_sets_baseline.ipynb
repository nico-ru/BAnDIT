{
 "cells": [
  {
   "cell_type": "code",
   "execution_count": 94,
   "metadata": {},
   "outputs": [],
   "source": [
    "import pandas as pd\n",
    "\n",
    "files_dir = f\"/home/rudi/Projects/profile-based-anomaly-detection/data/dotlist_induced6\"\n",
    "\n",
    "annotations_path = f\"{files_dir}/annotations.csv\"\n",
    "annotations = pd.read_csv(annotations_path)\n",
    "anomalies = pd.read_csv(\"/home/rudi/Projects/profile-based-anomaly-detection/data/dotlist_induced6/anomalies.csv\")"
   ]
  },
  {
   "cell_type": "code",
   "execution_count": 95,
   "metadata": {},
   "outputs": [],
   "source": [
    "from src.datamodules.components.sequence_dataset import SequenceDataset\n",
    "\n",
    "sequences = SequenceDataset(\n",
    "    annotations=annotations_path,\n",
    "    events=\"/home/rudi/Projects/profile-based-anomaly-detection/data/dotlist_induced6/events.json\"\n",
    ")"
   ]
  },
  {
   "cell_type": "code",
   "execution_count": 96,
   "metadata": {},
   "outputs": [],
   "source": [
    "cases = {}\n",
    "for i, sequence in enumerate(sequences):\n",
    "    flattened = sequence.squeeze().tolist()\n",
    "    case = list(map(lambda x: sequences.types[x], flattened))\n",
    "    cases[i] = case"
   ]
  },
  {
   "cell_type": "code",
   "execution_count": 98,
   "metadata": {},
   "outputs": [],
   "source": [
    "requests = {}\n",
    "for i, row in annotations.iterrows():\n",
    "    file_name = row['MESSAGE']\n",
    "    content = open(f\"{files_dir}/documents/{file_name}\", \"r\").read().split(\" \")\n",
    "    requests[file_name] = content"
   ]
  },
  {
   "cell_type": "code",
   "execution_count": 99,
   "metadata": {},
   "outputs": [
    {
     "name": "stderr",
     "output_type": "stream",
     "text": [
      "100%|██████████| 1000/1000 [00:00<00:00, 71109.18it/s]\n"
     ]
    }
   ],
   "source": [
    "import tqdm\n",
    "\n",
    "grams = {}\n",
    "for file_name, tokens in tqdm.tqdm(cases.items()):\n",
    "    for i in range(len(tokens)):\n",
    "        for j in range(len(tokens)):\n",
    "            other_tokens = tokens.copy()\n",
    "            other_tokens.pop(j)\n",
    "            k = tuple(other_tokens)\n",
    "            if k not in grams:\n",
    "                grams[k] = []\n",
    "            grams[k].append(tokens[j])"
   ]
  },
  {
   "cell_type": "code",
   "execution_count": 100,
   "metadata": {},
   "outputs": [
    {
     "name": "stderr",
     "output_type": "stream",
     "text": [
      "100%|██████████| 127/127 [00:00<00:00, 23176.98it/s]\n"
     ]
    }
   ],
   "source": [
    "# turn each array of middle-words into a probability vector\n",
    "gram_probabilities = {}\n",
    "for k, words in tqdm.tqdm(grams.items()):\n",
    "    # create a dictionary of word -> count\n",
    "    if len(set(words)): # only do this when there are different possibilities for a middle word\n",
    "        d = {} ; n = 0\n",
    "        for w in words:\n",
    "            if w not in d:\n",
    "                d[w] = 0    # set count to 0 for each new word\n",
    "            d[w] += 1       # increment count for each existing word\n",
    "            n += 1          # increment total number of examined words\n",
    "        for w, c in d.items():\n",
    "            d[w] = float(format(float(c) / n, '.4f'))  # compute probabilities with 4 decimal digits\n",
    "        gram_probabilities[k] = d"
   ]
  },
  {
   "cell_type": "code",
   "execution_count": 101,
   "metadata": {},
   "outputs": [
    {
     "data": {
      "text/plain": [
       "127"
      ]
     },
     "execution_count": 101,
     "metadata": {},
     "output_type": "execute_result"
    }
   ],
   "source": [
    "len(gram_probabilities)"
   ]
  },
  {
   "cell_type": "code",
   "execution_count": 102,
   "metadata": {},
   "outputs": [],
   "source": [
    "def compute_complete_prob(req, gram_probabilities):\n",
    "    acc_prob = 1\n",
    "    for i, t in enumerate(req):\n",
    "        others = req.copy()\n",
    "        others.pop(i)\n",
    "        probabilities: dict = gram_probabilities.get(tuple(others))\n",
    "        if probabilities is None:\n",
    "            return 0\n",
    "        acc_prob *= probabilities.get(t, 0)\n",
    "    return acc_prob"
   ]
  },
  {
   "cell_type": "code",
   "execution_count": 103,
   "metadata": {},
   "outputs": [],
   "source": [
    "req = cases[list(cases.keys())[0]]"
   ]
  },
  {
   "cell_type": "code",
   "execution_count": 104,
   "metadata": {},
   "outputs": [
    {
     "data": {
      "text/plain": [
       "1.0"
      ]
     },
     "execution_count": 104,
     "metadata": {},
     "output_type": "execute_result"
    }
   ],
   "source": [
    "compute_complete_prob(req, gram_probabilities)"
   ]
  },
  {
   "cell_type": "code",
   "execution_count": 105,
   "metadata": {},
   "outputs": [],
   "source": [
    "probs = {}\n",
    "for file_name, content in cases.items():\n",
    "    probs[file_name] = compute_complete_prob(content, gram_probabilities)"
   ]
  },
  {
   "cell_type": "code",
   "execution_count": 106,
   "metadata": {},
   "outputs": [],
   "source": [
    "import matplotlib.pyplot as plt\n",
    "import seaborn as sns\n",
    "\n",
    "sns.set(rc={\n",
    " 'axes.axisbelow': False,\n",
    " 'axes.edgecolor': 'k',\n",
    " 'axes.facecolor': 'None',\n",
    " 'axes.grid': False,\n",
    " 'axes.labelcolor': 'dimgrey',\n",
    " 'axes.spines.right': True,\n",
    " 'axes.spines.top': True,\n",
    " 'figure.facecolor': 'white',\n",
    " 'lines.solid_capstyle': 'round',\n",
    " 'patch.edgecolor': 'w',\n",
    " 'patch.force_edgecolor': True,\n",
    " 'text.color': 'k',\n",
    " 'xtick.bottom': False,\n",
    " 'xtick.color': 'k',\n",
    " 'xtick.direction': 'out',\n",
    " 'xtick.top': False,\n",
    " 'ytick.color': 'k',\n",
    " 'ytick.direction': 'out',\n",
    " 'ytick.left': False,\n",
    " 'ytick.right': False})\n",
    "sns.set_context(\"notebook\", rc={\"font.size\":10,\n",
    "                                \"axes.titlesize\":14,\n",
    "                                \"axes.labelsize\":10,\n",
    "                                \"xtick.labelsize\": 9,\n",
    "                                \"ytick.labelsize\": 9})"
   ]
  },
  {
   "cell_type": "code",
   "execution_count": 107,
   "metadata": {},
   "outputs": [
    {
     "data": {
      "image/png": "[encoded data removed]",
      "text/plain": [
       "<Figure size 640x480 with 1 Axes>"
      ]
     },
     "metadata": {},
     "output_type": "display_data"
    }
   ],
   "source": [
    "from matplotlib import pyplot as plt \n",
    "\n",
    "data = list(probs.values())\n",
    "import numpy\n",
    "\n",
    "probs_array = numpy.array(data)\n",
    "mean = probs_array.mean()\n",
    "std = probs_array.std()\n",
    "\n",
    "th = mean - 1 * std\n",
    "\n",
    "plt.scatter(x=range(len(data)), y=data, marker='.')\n",
    "plt.axhline(y=th, color='k', linestyle='--')\n",
    "plt.title('micro-1')\n",
    "plt.show()"
   ]
  },
  {
   "cell_type": "code",
   "execution_count": 108,
   "metadata": {},
   "outputs": [],
   "source": [
    "y_true = []\n",
    "y_pred = []\n",
    "# for i, row in annotations.iterrows():\n",
    "#     file_name = row['MESSAGE']\n",
    "#     anomaly = row['CODE'] > 0\n",
    "#     y_true.append(anomaly)\n",
    "#     anomaly_prediction = compute_complete_prob(requests[file_name], gram_probabilities) < th\n",
    "#     y_pred.append(anomaly_prediction)\n",
    "\n",
    "for i in range(len(sequences)):\n",
    "    is_anomaly = (anomalies['CORRELATION_ID'] == i).any()\n",
    "    predicted_anomaly = compute_complete_prob(cases[i], gram_probabilities) < th\n",
    "    y_true.append(is_anomaly)\n",
    "    y_pred.append(predicted_anomaly)"
   ]
  },
  {
   "cell_type": "code",
   "execution_count": 109,
   "metadata": {},
   "outputs": [
    {
     "name": "stdout",
     "output_type": "stream",
     "text": [
      "              precision    recall  f1-score   support\n",
      "\n",
      "       False       0.98      0.99      0.99       946\n",
      "        True       0.87      0.72      0.79        54\n",
      "\n",
      "    accuracy                           0.98      1000\n",
      "   macro avg       0.93      0.86      0.89      1000\n",
      "weighted avg       0.98      0.98      0.98      1000\n",
      "\n",
      "[[940   6]\n",
      " [ 15  39]]\n",
      "0.7471264367816093\n",
      "0.7344632768361583\n"
     ]
    }
   ],
   "source": [
    "from sklearn.metrics import classification_report, confusion_matrix, fbeta_score\n",
    "\n",
    "print(classification_report(y_true, y_pred))\n",
    "print(confusion_matrix(y_true, y_pred))\n",
    "print(fbeta_score(y_true, y_pred, beta=2))\n",
    "print(fbeta_score(y_true, y_pred, beta=3))"
   ]
  }
 ],
 "metadata": {
  "kernelspec": {
   "display_name": "Python 3.10.9 ('soadetect')",
   "language": "python",
   "name": "python3"
  },
  "language_info": {
   "codemirror_mode": {
    "name": "ipython",
    "version": 3
   },
   "file_extension": ".py",
   "mimetype": "text/x-python",
   "name": "python",
   "nbconvert_exporter": "python",
   "pygments_lexer": "ipython3",
   "version": "3.10.9"
  },
  "orig_nbformat": 4,
  "vscode": {
   "interpreter": {
    "hash": "5e1533320b0b8d0645fbc7211cfcf8506c40596d3dd2a8be06359ce6c9210a0e"
   }
  }
 },
 "nbformat": 4,
 "nbformat_minor": 2
}
